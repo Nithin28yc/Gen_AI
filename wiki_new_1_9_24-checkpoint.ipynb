{
 "cells": [
  {
   "cell_type": "code",
   "execution_count": 1,
   "id": "116b0e8c-fd8e-4fcc-b872-ce53d55f9986",
   "metadata": {},
   "outputs": [],
   "source": [
    "import os\n",
    "import openai\n",
    "import pandas as pd\n",
    "import csv \n",
    "import re\n",
    "import json\n",
    "from docx import Document\n",
    "# Set your OpenAI API key\n",
    "openai.api_type = \"azure\"\n",
    "openai.api_base = \"https://devopsvalidation.openai.azure.com/\"\n",
    "openai.api_version = \"2023-09-15-preview\"\n",
    "openai.api_key = \"27940702532b4623b2c59a296bfe484b\""
   ]
  },
  {
   "cell_type": "code",
   "execution_count": 2,
   "id": "812723d8-fe89-4ec4-bb60-aacc1e6f2833",
   "metadata": {},
   "outputs": [],
   "source": [
    "java_files=[]\n",
    "root_path=r'C:\\Users\\nithin.y.c\\OneDrive - Accenture\\Documents\\Code Coverage\\ct_genai_testcoverage\\onlinebookstore-master\\src\\main'\n",
    "for root, dirs, files in os.walk(root_path):\n",
    "    for file in files:\n",
    "        if file.endswith(\".java\"):\n",
    "            java_files.append(os.path.join(root, file)) "
   ]
  },
  {
   "cell_type": "code",
   "execution_count": 3,
   "id": "e536b725-a716-4085-93a7-de9d72a5b5d9",
   "metadata": {},
   "outputs": [],
   "source": [
    "def find_java_files(root_path):\n",
    "    java_files = []\n",
    "\n",
    "    for root, dirs, files in os.walk(root_path):\n",
    "        for file in files:\n",
    "            if file.endswith(\".java\"):\n",
    "                java_files.append(os.path.join(root, file))\n",
    "\n",
    "    return java_files"
   ]
  },
  {
   "cell_type": "code",
   "execution_count": 4,
   "id": "b5aaf76d-a237-4cba-88fe-4642ab199c9b",
   "metadata": {},
   "outputs": [],
   "source": [
    "def summarizer(java_files_list):\n",
    "    summaries=''\n",
    "    for file_name in java_files_list:\n",
    "        with open(file_name, 'r') as file:\n",
    "            code_snippet=file.read()    \n",
    "        trunc_file=os.path.basename(file_name)\n",
    "        messages = [] \n",
    "        prompt=f\"\"\"Summarize what the following code does from {trunc_file} in 100 words.\n",
    "        Here is the code:\\n+{code_snippet}.\"\"\"\n",
    "        messages.append({'role':'user','content':prompt})\n",
    "        response = openai.ChatCompletion.create(\n",
    "            engine=\"neww\",\n",
    "            messages = messages,\n",
    "            temperature=0.2,  # Adjust the temperature for creativity\n",
    "        )\n",
    "        result=response.choices[0].message['content']\n",
    "        summaries=summaries+'\\n'+trunc_file+':\\n'+result\n",
    "        #print(result)\n",
    "    return summaries"
   ]
  },
  {
   "cell_type": "code",
   "execution_count": 5,
   "id": "07a7526f-1557-433f-b4e4-9969f65ced84",
   "metadata": {},
   "outputs": [
    {
     "name": "stdout",
     "output_type": "stream",
     "text": [
      "\n",
      "BookStoreConstants.java:\n",
      "The code defines a constant interface named BookStoreConstants which contains a single static variable named CONTENT_TYPE_TEXT_HTML with a value of \"text/html\". This constant can be used throughout the application to ensure consistency in the content type of HTML pages.\n",
      "ResponseCode.java:\n",
      "The code defines an enum class called ResponseCode that contains a list of HTTP response codes and their corresponding messages. Each response code is represented by an instance of the enum class and has a code and message associated with it. The class also includes a method that allows for reverse lookup of a response code based on its status code.\n",
      "BooksDBConstants.java:\n",
      "The code defines constants for a database table called \"books\" with columns for name, barcode, author, price, and quantity. These constants can be used throughout the application to reference the table and its columns.\n",
      "UsersDBConstants.java:\n",
      "The code defines constants for the names of the columns in a database table called \"users\". The columns include username, password, firstname, lastname, address, phone, mailid, and usertype. These constants can be used throughout the application to refer to these specific columns in the database.\n",
      "Address.java:\n",
      "The code defines a Java class called Address that implements the Serializable interface. The class has private instance variables for address line 1, address line 2, city, state, country, pin code, and phone number. It also has getter and setter methods for each of these variables. This class can be used to represent a physical address in a Java program.\n",
      "Book.java:\n",
      "The Book class defines a model for a book object with properties such as barcode, name, author, price, and quantity. It includes constructors and getter/setter methods for each property. The class implements the Serializable interface, allowing instances of the class to be serialized and deserialized.\n",
      "Cart.java:\n",
      "The Cart class represents a shopping cart for a bookstore. It contains a Book object and an integer quantity representing the number of copies of that book in the cart. The class has getter and setter methods for both the book and quantity fields. It implements the Serializable interface, allowing it to be easily stored and retrieved from a file or database. The constructor takes a Book object and an integer quantity as parameters and initializes the fields.\n",
      "package-info.java:\n",
      "The code is a package-info.java file that contains no code but only comments. It is used to provide information about the package it belongs to, which is com.bittercode.model. The comments are empty in this case, so there is no information provided.\n",
      "StoreException.java:\n",
      "The StoreException class extends the IOException class and provides constructors and methods to handle exceptions related to storing data. It includes fields for error code, error message, and status code. The constructors allow for different combinations of these fields to be set depending on the type of exception being thrown. The class also includes getter and setter methods for each field.\n",
      "User.java:\n",
      "The User class is a model class that represents a user object. It has private fields for email, password, first name, last name, phone number, address, and a list of user roles. It also has getter and setter methods for each field. There is a commented out method called retrieveFromHttpServletRequest that takes in a HttpServletRequest object and returns a User object with the fields set based on the parameters from the request.\n",
      "UserRole.java:\n",
      "The code defines an enumeration called UserRole, which contains two values: CUSTOMER and SELLER. This enumeration can be used to represent the roles of users in a system, where a user can either be a customer or a seller.\n",
      "BookService.java:\n",
      "The BookService interface defines methods for getting, adding, updating, and deleting books from a store. It includes methods for getting a book by its ID, getting all books, getting books by a comma-separated list of IDs, deleting a book by its ID, adding a book, updating the quantity of a book by its ID, and updating a book's information. All methods throw a StoreException if there is an error accessing the store.\n",
      "UserService.java:\n",
      "The UserService interface provides methods for logging in, registering, checking if a user is logged in, and logging out. These methods take in parameters such as the user's role, email, password, and session information. The methods may throw a StoreException if there is an issue with storing or retrieving user information.\n",
      "BookServiceImpl.java:\n",
      "The code defines a BookServiceImpl class that implements the BookService interface. It contains methods to perform CRUD operations on a database table called TABLE_BOOK. The getAllBooks() method retrieves all books from the table, getBookById() retrieves a book by its barcode, deleteBookById() deletes a book by its barcode, addBook() adds a new book to the table, updateBookQtyById() updates the quantity of a book by its barcode, getBooksByCommaSeperatedBookIds() retrieves a list of books by a comma-separated list of barcodes, and updateBook() updates a book's details by its barcode. The code uses JDBC to interact with the database.\n",
      "UserServiceImpl.java:\n",
      "The UserServiceImpl class implements the UserService interface and provides methods for user registration, login, logout, and checking if a user is logged in. The login method takes in a user role, email, password, and session, and checks if the user exists in the database. If the user exists, their information is stored in a User object and their email is stored in the session. The register method takes in a user role and a User object and inserts the user's information into the database. If the insertion is successful, the method returns a success message, otherwise it returns a failure message with an error message. The isLoggedIn method checks if a user with a specific role is logged in by checking if their email is stored in the session. The logout method removes the user's email from the session and invalidates the session.\n",
      "DatabaseConfig.java:\n",
      "The code loads a properties file named \"application.properties\" and retrieves the values of several properties related to database configuration such as driver name, host, port, name, username, and password. These values are stored in static variables and can be accessed from other classes. The class uses a static initialization block to load the properties file and catch any IOException that may occur during the process.\n",
      "DBUtil.java:\n",
      "The code establishes a database connection using JDBC and stores the connection in a static variable. The getConnection() method returns the connection and throws a custom exception if the connection is null. The code also imports classes from other packages and uses them to configure the database connection.\n",
      "StoreUtil.java:\n",
      "The StoreUtil class contains three static methods: isLoggedIn, setActiveTab, and updateCartItems. The isLoggedIn method checks if a user is logged in with a specific role by checking if the session attribute for that role is not null. The setActiveTab method modifies the active tab in the page menu bar by using JavaScript to remove the \"active\" class from the previous tab and add it to the new tab. The updateCartItems method adds, removes, or updates items in the cart by using the session to store the selected book IDs and their quantities. If a book is added to the cart, its ID is added to the \"items\" session attribute and its quantity is stored as a separate session attribute with a prefix of \"qty_\". If a book is removed from the cart, its quantity is decremented or removed from the session if it reaches zero, and its ID is removed from the \"items\" session attribute.\n",
      "AboutServlet.java:\n",
      "The AboutServlet class is a servlet that handles requests to the \"about\" page. It checks if the user is logged in as a customer or seller, and if so, includes the appropriate home page and displays an iframe containing the author's personal website. If the user is not logged in, it includes the login page and displays a message prompting the user to log in. The StoreUtil class is used to check if the user is logged in and set the active tab. The response is sent back as HTML.\n",
      "AddBookServlet.java:\n",
      "The AddBookServlet class is a Java servlet that handles requests to add a new book to the bookstore's database. It first checks if the user is logged in as a seller, and if not, redirects them to the seller login page. If the user is logged in, it checks if the book name parameter is null or blank. If it is, it displays a form for the user to fill out with the book's details. If the book name parameter is not null or blank, it creates a new Book object with the details provided by the user and adds it to the database using the BookService class. If the book is successfully added, it displays a success message, otherwise it displays an error message. The servlet also includes a method to display the form for adding a new book.\n",
      "BuyBooksServlet.java:\n",
      "The BuyBooksServlet class is a servlet that handles the POST request when a customer wants to buy books. It first checks if the customer is logged in, and if not, it redirects them to the login page. It then retrieves all the books from the BookService and displays them in a table with checkboxes for the customer to select which books they want to buy and input fields for the quantity. When the customer submits the form, the selected books and quantities are sent to the \"buys\" servlet for processing.\n",
      "CartServlet.java:\n",
      "The CartServlet class is a Java servlet that handles requests related to the shopping cart of a customer in a bookstore web application. It first checks if the customer is logged in, and if not, it redirects them to the login page. It then updates the cart items based on the user's request and retrieves the book IDs from the session. It reads the books from the database with the respective book IDs and displays them in a table along with their details such as name, author, price, quantity, and amount. It also calculates the total amount to pay and displays it. Finally, it provides a button to proceed to checkout.\n",
      "CheckoutServlet.java:\n",
      "The CheckoutServlet class is a servlet that handles the POST request from the checkout page. It checks if the user is logged in as a customer, and if not, redirects them to the customer login page. If the user is logged in, it displays the payment page with the total amount to be paid and a button to pay and place the order. It also sets the active tab to \"cart\". If there is an exception, it prints the stack trace.\n",
      "CustomerLoginServlet.java:\n",
      "The CustomerLoginServlet is a Java servlet that handles the login process for customers. It receives a username and password from the user, calls the login method of the UserService to authenticate the user, and then redirects the user to the CustomerHome.html page if the login is successful. If the login fails, the user is redirected back to the CustomerLogin.html page and an error message is displayed. The servlet also generates HTML code to display a welcome message to the user on the CustomerHome.html page.\n",
      "CustomerRegisterServlet.java:\n",
      "The CustomerRegisterServlet class is a servlet that handles the registration of new customers. It receives input parameters from a form, creates a new User object with the input data, and calls the register method of the UserService to add the new user to the database. If the registration is successful, the servlet forwards the user to the CustomerLogin.html page and displays a success message. If the registration fails, the servlet forwards the user back to the CustomerRegister.html page and displays an error message.\n",
      "ErrorHandlerServlet.java:\n",
      "The ErrorHandlerServlet class is a servlet that handles errors in the application. It fetches the exceptions, status code, servlet name, and request URI from the request attributes. It then sets the error message and error code based on the status code, or if the exception is a StoreException, it sets the error message, status code, and error code from the exception. It then prints the error details to the console and displays an error message to the user based on their user role (customer, seller, or not logged in). The error message is displayed in a container with a heading and a message.\n",
      "LogoutServlet.java:\n",
      "The code defines a servlet called LogoutServlet that handles HTTP GET requests. It imports several classes and interfaces from different packages. It initializes an instance of the UserServiceImpl class. When a GET request is received, it gets the PrintWriter object from the response and sets the content type to text/html. It then calls the logout method of the UserServiceImpl class passing the current session as an argument. It gets a RequestDispatcher object for the CustomerLogin.html page and includes the request and response objects. If the logout is successful, it prints a message to the PrintWriter object indicating that the user has been successfully logged out. If an exception occurs, it prints the stack trace.\n",
      "ProcessPaymentServlet.java:\n",
      "The ProcessPaymentServlet class is a Java servlet that handles the payment process for a book store website. It first checks if the user is logged in as a customer, and if not, redirects them to the customer login page. If the user is logged in, it retrieves the items in the user's cart and updates the book quantity in the database. It then generates an order confirmation page for each item in the cart, displaying the book information, order ID, amount paid, and a button to indicate that the order has been placed. Finally, it removes the cart items and session attributes related to the payment process.\n",
      "ReceiptServlet.java:\n",
      "The ReceiptServlet class is a servlet that handles the display of a customer's order status. It first checks if the customer is logged in, and if not, redirects them to the login page. It then retrieves a list of all books from the BookService and displays them in a table format, along with the book code, name, author, price, quantity, and amount. The customer can select the quantity of each book they want to purchase and click the \"pay\" button to confirm their order. The servlet then updates the book quantity in the BookService and displays the total amount paid by the customer.\n",
      "RemoveBookServlet.java:\n",
      "The RemoveBookServlet class is a servlet that handles the removal of a book from the store. It first checks if the user is logged in as a seller, and if not, it redirects them to the seller login page. If the user is logged in, it retrieves the book ID parameter from the request. If the book ID is not provided, it displays a form to enter the book ID. If the book ID is provided, it calls the BookService to delete the book from the store. If the book is successfully deleted, it displays a success message and a link to remove more books. If the book is not available in the store, it displays an error message and a link to remove more books. If there is an exception, it displays a generic error message.\n",
      "SellerLoginServlet.java:\n",
      "The SellerLoginServlet is a Java servlet that handles the login process for sellers on an online book store website. It receives a POST request with the seller's username and password, and uses a UserService to authenticate the user. If the authentication is successful, the servlet forwards the request to the SellerHome.html page and displays a welcome message with the seller's first name. If the authentication fails, the servlet forwards the request back to the SellerLogin.html page and displays an error message. The servlet uses PrintWriter to output HTML code to the response.\n",
      "StoreBookServlet.java:\n",
      "The StoreBookServlet is a Java servlet that handles requests to display all the books available in the store. It first checks if the seller is logged in, and if not, redirects them to the login page. It then retrieves all the books from the database using the BookService, and displays them in a table with columns for book ID, name, author, price, quantity, and an update button. The table is displayed on the SellerHome.html page, and the active tab is set to \"storebooks\". If there are no books available, a message is displayed instead. The servlet also includes a method to generate the HTML code for each row of the table.\n",
      "UpdateBookServlet.java:\n",
      "The UpdateBookServlet class is a servlet that handles updating book information in the BookStore web application. It first checks if the user is logged in as a seller, and if not, redirects them to the seller login page. It then displays the seller home page and sets the active tab to \"storebooks\". If the update form has been submitted, it retrieves the book information from the form and passes it to the BookService to update the book in the database. If the update is successful, it displays a success message, otherwise it displays a failure message. If the book ID is provided in the request parameters, it retrieves the book information from the database and displays a form to update the book information.\n",
      "ViewBookServlet.java:\n",
      "The ViewBookServlet is a Java servlet that handles the display of available books to customers. It checks if the customer is logged in and redirects to the login page if not. It then retrieves all available books from the database and displays them in a card format with details such as book name, author, price, and quantity. Customers can add or remove books from their cart, and the servlet updates the cart accordingly. If a book is out of stock, the servlet displays an \"Out of Stock\" button. Finally, customers can proceed to checkout by clicking the \"Proceed to Checkout\" button.\n"
     ]
    }
   ],
   "source": [
    "summaries=summarizer(java_files)\n",
    "print(summaries)"
   ]
  },
  {
   "cell_type": "code",
   "execution_count": 6,
   "id": "0433059b-f883-4072-81c1-7bc6ec995d82",
   "metadata": {},
   "outputs": [],
   "source": [
    "def prompts(section_name,new_text, text):\n",
    "    if section_name == \"Overview of the Application\":\n",
    "        prompt = f\"Generate the {section_name} from {new_text} without tampering its content and meaning from {text}, in a single paragraph\"\n",
    "    if section_name == 'Purpose of the application':\n",
    "        prompt = f\"Generate the {section_name} with meaninful sentences from {new_text} without tampering its content and meaning\"\n",
    "    return prompt"
   ]
  },
  {
   "cell_type": "code",
   "execution_count": 7,
   "id": "998e7759-ebcb-4d40-a597-d8664c44447d",
   "metadata": {},
   "outputs": [],
   "source": [
    "def smedata():\n",
    "    messages = [] \n",
    "    section_name = \"Overview of the Application\"\n",
    "    text = f\"\"\"The BookStore web application is a platform for buying and selling books online. It includes features such as user authentication and \n",
    "    registration, shopping cart functionality, and payment processing. The application is built using Java servlets and uses a MySQL database to store \n",
    "    book and user information.\"\"\" \n",
    "    \n",
    "    new_text = f\"\"\"The BookStore web application is a platform for buying and selling books online. It includes features such as user authentication and \n",
    "    registration, shopping cart functionality, and payment processing. The application is built using Java servlets and uses a MySQL database to store \n",
    "    book and user information. The application has two different logins admin and customers\"\"\"\n",
    "    \n",
    "    new_prompt= prompts(section_name,new_text, text)\n",
    "    messages.append({'role':'user','content':new_prompt})\n",
    "    response = openai.ChatCompletion.create(\n",
    "        engine=\"neww\",\n",
    "        messages = messages,\n",
    "        temperature=0,  # Adjust the temperature for creativity\n",
    "    )\n",
    "    result=response.choices[0].message['content']\n",
    "    return result"
   ]
  },
  {
   "cell_type": "code",
   "execution_count": 8,
   "id": "9ce9dc8d-844d-49e6-9e48-06ecf200c7d1",
   "metadata": {},
   "outputs": [],
   "source": [
    "def genai(prompt):\n",
    "    messages = []\n",
    "    messages.append({'role':'user','content':prompt})\n",
    "    response = openai.ChatCompletion.create(\n",
    "        engine=\"neww\",\n",
    "        messages = messages,\n",
    "        temperature=0,  # Adjust the temperature for creativity\n",
    "    )\n",
    "    result=response.choices[0].message['content']\n",
    "    return result"
   ]
  },
  {
   "cell_type": "code",
   "execution_count": 37,
   "id": "81328cae-9314-4aa6-a090-2e2d2a52673d",
   "metadata": {},
   "outputs": [
    {
     "name": "stdout",
     "output_type": "stream",
     "text": [
      "The BookStore application contains various Java files that define constants, models, interfaces, and servlets for a web-based bookstore. The application includes classes for handling user registration, login, and logout, as well as methods for adding, updating, and deleting books from a database. The application also includes classes for handling shopping cart functionality, displaying book information to customers, and processing payments. The application uses JDBC to interact with the database and includes error handling and exception classes. Overall, the application provides a comprehensive solution for managing a bookstore website.\n"
     ]
    }
   ],
   "source": [
    "def overview():\n",
    "    sme_flag = False\n",
    "    if sme_flag:\n",
    "        sme = smedata()\n",
    "        return sme\n",
    "    else:\n",
    "        prompt=f\"\"\"Given below is a text containing various files and their descriptions.\n",
    "        Give the Overview of the application in 80 words if present\n",
    "        \\nHere are the summaries:\\n{summaries}\n",
    "        \"\"\"\n",
    "        genAI = genai(prompt)\n",
    "        return genAI\n",
    "        \n",
    "overview_section = overview()\n",
    "print(overview_section)"
   ]
  },
  {
   "cell_type": "code",
   "execution_count": 13,
   "id": "2816047c-582d-4a6d-bc1c-488225525d84",
   "metadata": {},
   "outputs": [
    {
     "name": "stdout",
     "output_type": "stream",
     "text": [
      "The purpose of the code base is to provide a web application for a bookstore. It includes various Java classes and servlets that handle tasks such as user authentication, book management, shopping cart functionality, and payment processing. The code defines constants for database tables and columns, and uses JDBC to interact with the database. It also includes interfaces and implementations for services such as BookService and UserService. The application is designed for both customers and sellers, with different functionality and pages available depending on the user's role. The code aims to provide a user-friendly and efficient online bookstore experience.\n"
     ]
    }
   ],
   "source": [
    "def purpose():\n",
    "    sme_flag = False\n",
    "    if sme_flag:\n",
    "        sme = smedata()\n",
    "        return sme\n",
    "    else:\n",
    "        prompt=f\"\"\"Given below is a text containing various files and their descriptions.\n",
    "        Give the Purpose of the code base in 80 words\n",
    "        \\nHere are the summaries:\\n{summaries}\n",
    "        \"\"\"\n",
    "        genAI = genai(prompt)\n",
    "        return genAI\n",
    "        \n",
    "purpose_section = purpose()\n",
    "print(purpose_section)"
   ]
  },
  {
   "cell_type": "code",
   "execution_count": 12,
   "id": "59c14bd5-fa6f-4bd4-80ab-023a320eae9c",
   "metadata": {},
   "outputs": [
    {
     "name": "stdout",
     "output_type": "stream",
     "text": [
      "Unfortunately, there are no specific versions or release notes mentioned in the given text.\n"
     ]
    }
   ],
   "source": [
    "def version():\n",
    "    sme_flag = False\n",
    "    if sme_flag:\n",
    "        sme = smedata()\n",
    "        return sme\n",
    "    else:\n",
    "        prompt=f\"\"\"Given below is a text containing various files and their descriptions.\n",
    "        Give the Versions and release notes\n",
    "        \\nHere are the summaries:\\n{summaries}\n",
    "        \"\"\"\n",
    "        genAI = genai(prompt)\n",
    "        return genAI\n",
    "        \n",
    "version_section = version()\n",
    "print(version_section)"
   ]
  },
  {
   "cell_type": "code",
   "execution_count": 19,
   "id": "2192820c-eef0-42f2-9835-38bf7798efdf",
   "metadata": {},
   "outputs": [
    {
     "name": "stdout",
     "output_type": "stream",
     "text": [
      "Introduction\n",
      "\n",
      "• Overview of the application\n",
      "\n",
      "The BookStore application is a web-based platform that allows customers to browse and purchase books, and sellers to manage their inventory. The application includes various Java classes and servlets that handle different functionalities such as user authentication, book management, shopping cart, and payment processing. The application uses a database to store information about books and users, and includes interfaces and classes to interact with the database. The application also includes utility classes for handling exceptions, constants, and session management. Overall, the BookStore application provides a user-friendly and efficient platform for buying and selling books online.\n",
      "\n",
      "• Purpose of the code base\n",
      "\n",
      "The purpose of the code base is to provide a web application for a bookstore. It includes various Java classes and servlets that handle tasks such as user authentication, book management, shopping cart functionality, and payment processing. The code defines constants for database tables and columns, and uses JDBC to interact with the database. It also includes interfaces and implementations for services such as BookService and UserService. The application is designed for both customers and sellers, with different functionality and pages available depending on the user's role. The code aims to provide a user-friendly and efficient online bookstore experience.\n",
      "\n",
      "• Versions and release notes\n",
      "\n",
      "Unfortunately, there are no specific versions or release notes mentioned in the given text.\n"
     ]
    }
   ],
   "source": [
    "intro = \"Introduction\"+'\\n\\n'+\"• Overview of the application\"+'\\n\\n'+overview_section+'\\n\\n'+\"• Purpose of the code base\"+'\\n\\n'+purpose_section+'\\n\\n'+\"• Versions and release notes\"+'\\n\\n'+version_section\n",
    "print(intro)"
   ]
  },
  {
   "cell_type": "code",
   "execution_count": 39,
   "id": "4e6737a2-2109-4066-8164-123e4297ae5d",
   "metadata": {},
   "outputs": [],
   "source": [
    "doc = Document()\n",
    "\n",
    "# Add the content to the document\n",
    "doc.add_paragraph(intro)\n",
    "\n",
    "# Save the document to a file\n",
    "doc.save('example.docx')"
   ]
  },
  {
   "cell_type": "code",
   "execution_count": 3,
   "id": "2b63b836-59b3-4c93-9a3e-9cebb64d1257",
   "metadata": {},
   "outputs": [],
   "source": [
    "\n",
    "from docx.shared import RGBColor\n",
    "# Create a new Word document\n",
    "doc = Document()\n",
    "\n",
    "# Add content to the document\n",
    "doc.add_heading('My Document', level=1)\n",
    "\n",
    "doc.add_paragraph('This is a paragraph.')\n",
    "\n",
    "# You can also add formatted text\n",
    "doc.add_paragraph('This is bold and italic text.', style='Heading 2').bold = True\n",
    "doc.add_paragraph('This is a bulleted list:', style='List Bullet')\n",
    "doc.add_paragraph('Item 1')\n",
    "doc.add_paragraph('Item 2')\n",
    "# Add a paragraph with bold and black-colored text\n",
    "paragraph = doc.add_paragraph()\n",
    "\n",
    "# Add a run with bold and black-colored text\n",
    "run = paragraph.add_run('This is bold black text.')\n",
    "run.bold = True\n",
    "run.font.color.rgb = RGBColor(0, 0, 0)\n",
    "# Save the document\n",
    "doc.save('my_document.docx')"
   ]
  },
  {
   "cell_type": "code",
   "execution_count": 36,
   "id": "80c2eaee-9241-4a16-8701-bfdea719fea0",
   "metadata": {},
   "outputs": [
    {
     "name": "stdout",
     "output_type": "stream",
     "text": [
      "To set up the development environment for the BookStore web application, the following steps can be taken:\n",
      "\n",
      "1. Install a Java Development Kit (JDK) on the computer.\n",
      "2. Install an Integrated Development Environment (IDE) such as Eclipse or IntelliJ IDEA.\n",
      "3. Create a new Java project in the IDE.\n",
      "4. Add the necessary dependencies to the project, such as JDBC drivers for the database being used.\n",
      "5. Create a database for the application and configure the database connection in the application code.\n",
      "6. Copy the source code files for the application into the project.\n",
      "7. Build and run the application to ensure that it is working correctly.\n",
      "8. Test the application thoroughly to ensure that all features are working as expected.\n"
     ]
    }
   ],
   "source": [
    "def gettingstarted():\n",
    "    sme_flag = False\n",
    "    if sme_flag:\n",
    "        sme = smedata()\n",
    "        return sme\n",
    "    else:\n",
    "        prompt=f\"\"\"Given below is a text containing various files and their descriptions.\n",
    "        Give Setting up the development environment\n",
    "        \\nHere are the summaries:\\n{summaries}\n",
    "        \"\"\"\n",
    "        genAI = genai(prompt)\n",
    "        return genAI\n",
    "        \n",
    "gettingstarted_section = gettingstarted()\n",
    "print(gettingstarted_section)"
   ]
  },
  {
   "cell_type": "code",
   "execution_count": 34,
   "id": "d75becbd-2d57-403f-9114-d7dc5566623d",
   "metadata": {},
   "outputs": [
    {
     "name": "stdout",
     "output_type": "stream",
     "text": [
      "Installation guide from BookStoreConstants.java:\n",
      "1. Open the BookStoreConstants.java file.\n",
      "2. Copy the entire code.\n",
      "3. Paste the code into a new Java file in your project.\n",
      "4. Save the file with a relevant name.\n",
      "5. Import the BookStoreConstants interface in any class where you want to use the CONTENT_TYPE_TEXT_HTML constant.\n",
      "6. Use the constant throughout your application to ensure consistency in the content type of HTML pages.\n"
     ]
    }
   ],
   "source": [
    "def installationguide():\n",
    "    sme_flag = False\n",
    "    if sme_flag:\n",
    "        sme = smedata()\n",
    "        return sme\n",
    "    else:\n",
    "        prompt=f\"\"\"Given below is a text containing various files and their descriptions.\n",
    "        Give the Installation guide from {summaries}.\n",
    "        \"\"\"\n",
    "        genAI = genai(prompt)\n",
    "        return genAI\n",
    "        \n",
    "installationguide_section = installationguide()\n",
    "print(installationguide_section)"
   ]
  },
  {
   "cell_type": "code",
   "execution_count": 29,
   "id": "5598eabf-0ac0-480f-9226-4437866f8756",
   "metadata": {},
   "outputs": [
    {
     "name": "stdout",
     "output_type": "stream",
     "text": [
      "The BookStore web application has several dependencies and configurations. The application uses JDBC to interact with the database and has several classes that define constants for database tables and columns. The application also uses several model classes such as Book, User, and Cart, which implement the Serializable interface to allow for easy storage and retrieval from a file or database. The application has several servlets that handle requests related to user authentication, book management, and shopping cart management. The servlets use the UserService and BookService interfaces to interact with the database and handle exceptions using the StoreException class. The application also has several utility classes such as StoreUtil, DBUtil, and DatabaseConfig that provide methods for checking user login status, establishing database connections, and retrieving database configuration properties. Finally, the application has several Java classes that define constants, enums, and interfaces for HTTP response codes, user roles, and content types.\n"
     ]
    }
   ],
   "source": [
    "def dependancy():\n",
    "    sme_flag = False\n",
    "    if sme_flag:\n",
    "        sme = smedata()\n",
    "        return sme\n",
    "    else:\n",
    "        prompt=f\"\"\"Given below is a text containing various files and their descriptions.\n",
    "        Give the Dependency & Configuration details in single paragraph\n",
    "        \\nHere are the summaries:\\n{summaries}\n",
    "        \"\"\"\n",
    "        genAI = genai(prompt)\n",
    "        return genAI\n",
    "        \n",
    "dependancy_section = dependancy()\n",
    "print(dependancy_section)"
   ]
  },
  {
   "cell_type": "code",
   "execution_count": null,
   "id": "2d1c2144-78d2-4436-9663-f6d946abf315",
   "metadata": {},
   "outputs": [],
   "source": []
  }
 ],
 "metadata": {
  "kernelspec": {
   "display_name": "Python 3 (ipykernel)",
   "language": "python",
   "name": "python3"
  },
  "language_info": {
   "codemirror_mode": {
    "name": "ipython",
    "version": 3
   },
   "file_extension": ".py",
   "mimetype": "text/x-python",
   "name": "python",
   "nbconvert_exporter": "python",
   "pygments_lexer": "ipython3",
   "version": "3.11.5"
  }
 },
 "nbformat": 4,
 "nbformat_minor": 5
}
